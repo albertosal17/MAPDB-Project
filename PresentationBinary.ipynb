{
 "cells": [
  {
   "cell_type": "markdown",
   "id": "488fe87a",
   "metadata": {},
   "source": [
    "`Insert title and authors here`"
   ]
  },
  {
   "cell_type": "markdown",
   "id": "e40b2777",
   "metadata": {},
   "source": [
    "# 1. Introduction "
   ]
  },
  {
   "cell_type": "markdown",
   "id": "5225fa09",
   "metadata": {},
   "source": [
    "`Write about the context of the processing task to be analyzed in this project (ie what is SEVN, what is data used for in astrophysics context, etc...)`"
   ]
  },
  {
   "cell_type": "markdown",
   "id": "14cd14de",
   "metadata": {},
   "source": [
    "# 2. Datasets"
   ]
  },
  {
   "cell_type": "markdown",
   "id": "f06728e9",
   "metadata": {},
   "source": [
    "`Write about the structure of the datasets here. Add diagrams/tables if useful`"
   ]
  },
  {
   "cell_type": "markdown",
   "id": "28316c77",
   "metadata": {},
   "source": [
    "# 3. Cluster"
   ]
  },
  {
   "cell_type": "markdown",
   "id": "428c49d2",
   "metadata": {},
   "source": [
    "`Describe briefly the setup of cluster and file system. Add diagrams if useful`"
   ]
  },
  {
   "cell_type": "markdown",
   "id": "d77d76f8",
   "metadata": {},
   "source": [
    "# 4. Data Processing "
   ]
  },
  {
   "cell_type": "markdown",
   "id": "0070103b",
   "metadata": {},
   "source": [
    "## 4.1 Naive method"
   ]
  },
  {
   "cell_type": "markdown",
   "id": "26c081bd",
   "metadata": {},
   "source": [
    "`Method used for LCP-B before knowing Dask. Report performance`"
   ]
  },
  {
   "cell_type": "markdown",
   "id": "f96b58b5",
   "metadata": {},
   "source": [
    "## 4.2 Optimized method (bags? foldby? delay? etc...)"
   ]
  },
  {
   "cell_type": "markdown",
   "id": "4adf2f3d",
   "metadata": {},
   "source": [
    "`Optimize naive method as much as possible. Again report performance`"
   ]
  },
  {
   "cell_type": "markdown",
   "id": "a6bb660d",
   "metadata": {},
   "source": [
    "## 4.3 (optional) Cluster behavior"
   ]
  },
  {
   "cell_type": "markdown",
   "id": "85106138",
   "metadata": {},
   "source": [
    "`Try to understand the way dask and NFS handle data transfer, processing, etc... Especially considering that the NFS server is assigned some processing tasks and the scheduler is assigned processing tasks.`"
   ]
  },
  {
   "cell_type": "markdown",
   "id": "72966401",
   "metadata": {},
   "source": [
    "# 5. Benchmarking"
   ]
  },
  {
   "cell_type": "markdown",
   "id": "723c1708",
   "metadata": {},
   "source": [
    "`Benchmark the best algorithm by collecting statistics on the time performance at varying numbers of threads, workers, and partitions`"
   ]
  }
 ],
 "metadata": {
  "kernelspec": {
   "display_name": "Python 3 (ipykernel)",
   "language": "python",
   "name": "python3"
  },
  "language_info": {
   "codemirror_mode": {
    "name": "ipython",
    "version": 3
   },
   "file_extension": ".py",
   "mimetype": "text/x-python",
   "name": "python",
   "nbconvert_exporter": "python",
   "pygments_lexer": "ipython3",
   "version": "3.9.12"
  }
 },
 "nbformat": 4,
 "nbformat_minor": 5
}
